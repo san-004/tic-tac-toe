{
 "cells": [
  {
   "cell_type": "code",
   "execution_count": 2,
   "id": "e595960f",
   "metadata": {},
   "outputs": [],
   "source": [
    "def display_board(board):\n",
    "    clear_output()\n",
    "    print(board[7]+' '+'|'+' '+board[8]+' '+'|'+' '+board[9])\n",
    "    print('--|---|--')\n",
    "    print(board[4]+' '+'|'+' '+board[5]+' '+'|'+' '+board[6])\n",
    "    print('--|---|--')\n",
    "    print(board[1]+' '+'|'+' '+board[2]+' '+'|'+' '+board[3])\n",
    "    return board"
   ]
  },
  {
   "cell_type": "code",
   "execution_count": 1,
   "id": "f1dbba43",
   "metadata": {},
   "outputs": [],
   "source": [
    "from IPython.display import clear_output"
   ]
  },
  {
   "cell_type": "code",
   "execution_count": 3,
   "id": "2a347eaa",
   "metadata": {},
   "outputs": [],
   "source": [
    "def player_choice():\n",
    "    marker=''\n",
    "    while marker not in ['X','O']:\n",
    "        marker=input(\"Player 1 choose X or O : \")\n",
    "        \n",
    "    if marker=='X':\n",
    "        player1='X'\n",
    "        player2='O'\n",
    "    else:\n",
    "        player1='O'\n",
    "        player2='X'\n",
    "    return (player1,player2)"
   ]
  },
  {
   "cell_type": "code",
   "execution_count": 4,
   "id": "740e6c84",
   "metadata": {},
   "outputs": [],
   "source": [
    "def position():\n",
    "    position =''\n",
    "    x=[]\n",
    "    while position not in range(1,11):\n",
    "        position=input(\"Enter the position for player1 : \")\n",
    "        x.append(position)\n",
    "    \n",
    "        if x.count(position)>1:\n",
    "            print(\"Already filed, try again\")\n",
    "        else:\n",
    "            board[int(position)]=player1_marker\n",
    "            break\n",
    "            \n",
    "    return position and x"
   ]
  },
  {
   "cell_type": "code",
   "execution_count": 5,
   "id": "65874e0c",
   "metadata": {},
   "outputs": [],
   "source": [
    "def position1():\n",
    "\n",
    "    position1 =''\n",
    "    while position1 not in range(1,11):\n",
    "        position1=input(\"Enter the position for player2 : \")\n",
    "        x.append(position1)\n",
    "    \n",
    "        if x.count(position1)>1:\n",
    "            print(\"Already filed, try again\")\n",
    "        else:\n",
    "            board[int(position1)]=player2_marker\n",
    "            return position1 and x"
   ]
  },
  {
   "cell_type": "code",
   "execution_count": 6,
   "id": "92583e8a",
   "metadata": {},
   "outputs": [],
   "source": [
    "def check_board(board,gameon):\n",
    "    for n in [1,2,3]:\n",
    "        if board[1]==board[2]==board[3]=='X' or board[4]==board[5]==board[6]=='X' or board[7]==board[8]==board[9]=='X' or board[1]==board[4]==board[7]=='X' or board[2]==board[5]==board[8]=='X' or board[3]==board[6]==board[9]=='X' or board[1]==board[5]==board[9]=='X' or board[3]==board[5]==board[7]=='X':\n",
    "            print(\"Congratulations X WINS\")\n",
    "            return True\n",
    "        elif board[1]==board[2]==board[3]=='O' or board[4]==board[5]==board[6]=='O' or board[7]==board[8]==board[9]=='O' or board[1]==board[4]==board[7]=='O' or board[2]==board[5]==board[8]=='O' or board[3]==board[6]==board[9]=='O' or board[1]==board[5]==board[9]=='O' or board[3]==board[5]==board[7]=='O':\n",
    "            print(\"Congratulations O WINS\")\n",
    "            return True\n",
    "        else:\n",
    "            return False\n",
    "\n",
    "    "
   ]
  },
  {
   "cell_type": "code",
   "execution_count": 7,
   "id": "bee86e27",
   "metadata": {},
   "outputs": [],
   "source": [
    "def check_draw(board,x,gameon):\n",
    "    if len(x)==10:\n",
    "        print(\"Match is draw\")\n",
    "        return True\n",
    "    else:\n",
    "        return False\n",
    "   \n",
    "   "
   ]
  },
  {
   "cell_type": "code",
   "execution_count": 8,
   "id": "8fa95c1f",
   "metadata": {},
   "outputs": [],
   "source": [
    "def replay():\n",
    "    play=''\n",
    "    while play not in [\"Yes\",\"No\"]:\n",
    "        play=input(\"Do you want to play again (Yes,No) : \")\n",
    "        if play=='Yes':\n",
    "            return True\n",
    "        else:\n",
    "            return False"
   ]
  },
  {
   "cell_type": "code",
   "execution_count": null,
   "id": "707b2763",
   "metadata": {},
   "outputs": [],
   "source": [
    "x=[]\n",
    "board=[' ']*10\n",
    "print(\"Welcome to Tic Tac Toe\")\n",
    "gameon=False\n",
    "start=False\n",
    "\n",
    "while start==False:\n",
    "    display_board(board)\n",
    "    player1_marker,player2_marker=player_choice()\n",
    "    position()\n",
    "    position1()\n",
    "    while gameon==False:\n",
    "        display_board(board)\n",
    "        position()\n",
    "        gameon=check_board(board,gameon)\n",
    "        if gameon==True:\n",
    "            replay()\n",
    "            if replay:\n",
    "                board=[' ']*10\n",
    "                gameon=True\n",
    "                continue\n",
    "            else:\n",
    "                start=True\n",
    "                break\n",
    "        gameon=check_draw(board,x,gameon)\n",
    "        if gameon==True:\n",
    "            replay()\n",
    "            if replay:\n",
    "                board=[' ']*10\n",
    "                gameon=True\n",
    "                continue\n",
    "            else:\n",
    "                start=True\n",
    "                break\n",
    "        position1()\n",
    "        gameon=check_board(board,gameon)\n",
    "        if gameon==True:\n",
    "            replay()\n",
    "            if replay:\n",
    "                board=[' ']*10\n",
    "                gameon=True\n",
    "                continue\n",
    "            else:\n",
    "                start=True\n",
    "                break\n",
    "        gameon=check_draw(board,x,gameon)\n",
    "        if gameon==True:\n",
    "            replay()\n",
    "            if replay:\n",
    "                board=[' ']*10\n",
    "                gameon=True\n",
    "                continue\n",
    "            else:\n",
    "                start=True\n",
    "                break\n",
    "    break           \n",
    "    "
   ]
  }
 ],
 "metadata": {
  "kernelspec": {
   "display_name": "Python 3 (ipykernel)",
   "language": "python",
   "name": "python3"
  },
  "language_info": {
   "codemirror_mode": {
    "name": "ipython",
    "version": 3
   },
   "file_extension": ".py",
   "mimetype": "text/x-python",
   "name": "python",
   "nbconvert_exporter": "python",
   "pygments_lexer": "ipython3",
   "version": "3.9.12"
  }
 },
 "nbformat": 4,
 "nbformat_minor": 5
}
